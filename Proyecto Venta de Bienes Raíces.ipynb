{
 "cells": [
  {
   "cell_type": "code",
   "execution_count": 1,
   "id": "d051074e",
   "metadata": {},
   "outputs": [],
   "source": [
    "import pandas as pd #Se usa para el manejo de dataFrame#\n",
    "import numpy as np #Se usa para el manejo de estructura de datos# \n",
    "import matplotlib.pyplot as pit #Se usa para crear gráficos#"
   ]
  },
  {
   "cell_type": "markdown",
   "id": "6a643b20",
   "metadata": {},
   "source": [
    "<h2 Style=\"color:#94ba65;text-align:center\">Proyecto Venta de Bienes Raíces</h2>"
   ]
  },
  {
   "cell_type": "markdown",
   "id": "d221fe35",
   "metadata": {},
   "source": [
    "<img src=\"bienes.jpg\" width=\"500\" height=\"500\" align=\"center\"/>"
   ]
  },
  {
   "cell_type": "markdown",
   "id": "736c6778",
   "metadata": {},
   "source": [
    "<h4 Style = \"color: #e35241\"> Importación de datos </h4>"
   ]
  },
  {
   "cell_type": "code",
   "execution_count": 2,
   "id": "833f85ab",
   "metadata": {},
   "outputs": [],
   "source": [
    "df = pd.read_csv(\"DataSet.csv\", sep=\";\",  low_memory=False)"
   ]
  },
  {
   "cell_type": "code",
   "execution_count": 3,
   "id": "93848ba5",
   "metadata": {
    "scrolled": true
   },
   "outputs": [
    {
     "data": {
      "text/plain": [
       "numero_de_serie       int64\n",
       "lista_año             int64\n",
       "fecha_registro       object\n",
       "ciudad               object\n",
       "direccion            object\n",
       "valor_tasado        float64\n",
       "importe_venta         int64\n",
       "ratio_ventas         object\n",
       "tipo_propiedad       object\n",
       "tipo_residencial     object\n",
       "Unnamed: 10          object\n",
       "Unnamed: 11          object\n",
       "Unnamed: 12          object\n",
       "Unnamed: 13          object\n",
       "Unnamed: 14          object\n",
       "Unnamed: 15          object\n",
       "Unnamed: 16          object\n",
       "Unnamed: 17          object\n",
       "Unnamed: 18          object\n",
       "Unnamed: 19          object\n",
       "Unnamed: 20          object\n",
       "Unnamed: 21          object\n",
       "dtype: object"
      ]
     },
     "execution_count": 3,
     "metadata": {},
     "output_type": "execute_result"
    }
   ],
   "source": [
    "df.dtypes"
   ]
  },
  {
   "cell_type": "code",
   "execution_count": 4,
   "id": "000f0860",
   "metadata": {},
   "outputs": [],
   "source": [
    "df [[\"importe_venta \"]]=df [[\"importe_venta \"]].astype(\"int\")"
   ]
  },
  {
   "cell_type": "markdown",
   "id": "c0e39fb8",
   "metadata": {},
   "source": [
    "<h2 style=\"color: #6495ED\">Respuestas a las preguntas</h2>"
   ]
  },
  {
   "cell_type": "markdown",
   "id": "c81beb36",
   "metadata": {},
   "source": [
    "<h4 style=\"color: #0b2e59\">1.Cuál es el ingreso anual de las propiedades vendidas?</h4>"
   ]
  },
  {
   "cell_type": "code",
   "execution_count": 5,
   "id": "fe1c726f",
   "metadata": {},
   "outputs": [
    {
     "data": {
      "text/plain": [
       "73871340881"
      ]
     },
     "execution_count": 5,
     "metadata": {},
     "output_type": "execute_result"
    }
   ],
   "source": [
    "df['importe_venta '].sum()"
   ]
  },
  {
   "cell_type": "markdown",
   "id": "0aa8c483",
   "metadata": {},
   "source": [
    "<p> R. El ingreso anual de ventas asciende a 73 871 340 881</p>"
   ]
  },
  {
   "cell_type": "markdown",
   "id": "ca372d1d",
   "metadata": {},
   "source": [
    "<h4 style=\"color: #0b2e59\">2.Qué tipo de propiedad tiene mayor facilidad de venta?</h4>"
   ]
  },
  {
   "cell_type": "code",
   "execution_count": 6,
   "id": "69b10ba0",
   "metadata": {},
   "outputs": [
    {
     "data": {
      "text/html": [
       "<div>\n",
       "<style scoped>\n",
       "    .dataframe tbody tr th:only-of-type {\n",
       "        vertical-align: middle;\n",
       "    }\n",
       "\n",
       "    .dataframe tbody tr th {\n",
       "        vertical-align: top;\n",
       "    }\n",
       "\n",
       "    .dataframe thead th {\n",
       "        text-align: right;\n",
       "    }\n",
       "</style>\n",
       "<table border=\"1\" class=\"dataframe\">\n",
       "  <thead>\n",
       "    <tr style=\"text-align: right;\">\n",
       "      <th></th>\n",
       "      <th>importe_venta</th>\n",
       "    </tr>\n",
       "    <tr>\n",
       "      <th>tipo_propiedad</th>\n",
       "      <th></th>\n",
       "    </tr>\n",
       "  </thead>\n",
       "  <tbody>\n",
       "    <tr>\n",
       "      <th>Residential</th>\n",
       "      <td>67078501579</td>\n",
       "    </tr>\n",
       "    <tr>\n",
       "      <th>Commercial</th>\n",
       "      <td>3456687331</td>\n",
       "    </tr>\n",
       "    <tr>\n",
       "      <th>Apartments</th>\n",
       "      <td>1874129476</td>\n",
       "    </tr>\n",
       "    <tr>\n",
       "      <th>Vacant Land</th>\n",
       "      <td>925880107</td>\n",
       "    </tr>\n",
       "    <tr>\n",
       "      <th>Industrial</th>\n",
       "      <td>411997723</td>\n",
       "    </tr>\n",
       "    <tr>\n",
       "      <th>Condo</th>\n",
       "      <td>84892239</td>\n",
       "    </tr>\n",
       "    <tr>\n",
       "      <th>No indica</th>\n",
       "      <td>36428882</td>\n",
       "    </tr>\n",
       "    <tr>\n",
       "      <th>Public Utility</th>\n",
       "      <td>1848544</td>\n",
       "    </tr>\n",
       "    <tr>\n",
       "      <th>Single Family</th>\n",
       "      <td>530000</td>\n",
       "    </tr>\n",
       "    <tr>\n",
       "      <th>Two Family</th>\n",
       "      <td>395000</td>\n",
       "    </tr>\n",
       "    <tr>\n",
       "      <th>Three Family</th>\n",
       "      <td>50000</td>\n",
       "    </tr>\n",
       "  </tbody>\n",
       "</table>\n",
       "</div>"
      ],
      "text/plain": [
       "                importe_venta \n",
       "tipo_propiedad                \n",
       "Residential        67078501579\n",
       "Commercial          3456687331\n",
       "Apartments          1874129476\n",
       "Vacant Land          925880107\n",
       "Industrial           411997723\n",
       "Condo                 84892239\n",
       "No indica             36428882\n",
       "Public Utility         1848544\n",
       "Single Family           530000\n",
       "Two Family              395000\n",
       "Three Family             50000"
      ]
     },
     "execution_count": 6,
     "metadata": {},
     "output_type": "execute_result"
    }
   ],
   "source": [
    "gf=df.pivot_table(index=\"tipo_propiedad\",values=\"importe_venta \", aggfunc=\"sum\")\n",
    "gf = gf.sort_values('importe_venta ', ascending=False)\n",
    "gf"
   ]
  },
  {
   "cell_type": "markdown",
   "id": "cbe8abcd",
   "metadata": {},
   "source": [
    "<p> R. Las propiedades con mayor venta son de tipo residencial</p>"
   ]
  },
  {
   "cell_type": "markdown",
   "id": "e4712ab4",
   "metadata": {},
   "source": [
    "<h4 style=\"color: #0b2e59\">3.En cuál ciudad o pueblo se dan mayore cantidad de ventas y qué elementos particulares tienen esas ciudades o pueblos?</h4>"
   ]
  },
  {
   "cell_type": "code",
   "execution_count": 7,
   "id": "b4d08099",
   "metadata": {},
   "outputs": [
    {
     "data": {
      "text/html": [
       "<div>\n",
       "<style scoped>\n",
       "    .dataframe tbody tr th:only-of-type {\n",
       "        vertical-align: middle;\n",
       "    }\n",
       "\n",
       "    .dataframe tbody tr th {\n",
       "        vertical-align: top;\n",
       "    }\n",
       "\n",
       "    .dataframe thead th {\n",
       "        text-align: right;\n",
       "    }\n",
       "</style>\n",
       "<table border=\"1\" class=\"dataframe\">\n",
       "  <thead>\n",
       "    <tr style=\"text-align: right;\">\n",
       "      <th></th>\n",
       "      <th>importe_venta</th>\n",
       "    </tr>\n",
       "    <tr>\n",
       "      <th>ciudad</th>\n",
       "      <th></th>\n",
       "    </tr>\n",
       "  </thead>\n",
       "  <tbody>\n",
       "    <tr>\n",
       "      <th>Greenwich</th>\n",
       "      <td>7611445711</td>\n",
       "    </tr>\n",
       "    <tr>\n",
       "      <th>Stamford</th>\n",
       "      <td>6789999434</td>\n",
       "    </tr>\n",
       "    <tr>\n",
       "      <th>Norwalk</th>\n",
       "      <td>3137906269</td>\n",
       "    </tr>\n",
       "    <tr>\n",
       "      <th>Darien</th>\n",
       "      <td>2056298238</td>\n",
       "    </tr>\n",
       "    <tr>\n",
       "      <th>New Canaan</th>\n",
       "      <td>1757969141</td>\n",
       "    </tr>\n",
       "    <tr>\n",
       "      <th>...</th>\n",
       "      <td>...</td>\n",
       "    </tr>\n",
       "    <tr>\n",
       "      <th>Scotland</th>\n",
       "      <td>19036991</td>\n",
       "    </tr>\n",
       "    <tr>\n",
       "      <th>Bozrah</th>\n",
       "      <td>16620261</td>\n",
       "    </tr>\n",
       "    <tr>\n",
       "      <th>Union</th>\n",
       "      <td>10823078</td>\n",
       "    </tr>\n",
       "    <tr>\n",
       "      <th>Voluntown</th>\n",
       "      <td>10376500</td>\n",
       "    </tr>\n",
       "    <tr>\n",
       "      <th>Hartland</th>\n",
       "      <td>6398691</td>\n",
       "    </tr>\n",
       "  </tbody>\n",
       "</table>\n",
       "<p>169 rows × 1 columns</p>\n",
       "</div>"
      ],
      "text/plain": [
       "            importe_venta \n",
       "ciudad                    \n",
       "Greenwich       7611445711\n",
       "Stamford        6789999434\n",
       "Norwalk         3137906269\n",
       "Darien          2056298238\n",
       "New Canaan      1757969141\n",
       "...                    ...\n",
       "Scotland          19036991\n",
       "Bozrah            16620261\n",
       "Union             10823078\n",
       "Voluntown         10376500\n",
       "Hartland           6398691\n",
       "\n",
       "[169 rows x 1 columns]"
      ]
     },
     "execution_count": 7,
     "metadata": {},
     "output_type": "execute_result"
    }
   ],
   "source": [
    "gf=df.pivot_table(index=\"ciudad\",values=\"importe_venta \", aggfunc=\"sum\")\n",
    "gf = gf.sort_values('importe_venta ', ascending=False)\n",
    "gf"
   ]
  },
  {
   "cell_type": "markdown",
   "id": "072940cd",
   "metadata": {},
   "source": [
    "<p> R. El mayor volumen de ventas se da en la ciudad de Greenwich y no hay suficientes datos para determinar a qué se debe esta situación</p>"
   ]
  },
  {
   "cell_type": "markdown",
   "id": "d61e048d",
   "metadata": {},
   "source": [
    "<h4 style=\"color: #0b2e59\">4.Cuál es el costo promedio de las propiedades resdenciales y comerciales?</h4>"
   ]
  },
  {
   "cell_type": "code",
   "execution_count": 8,
   "id": "b0f713cf",
   "metadata": {},
   "outputs": [
    {
     "data": {
      "text/html": [
       "<div>\n",
       "<style scoped>\n",
       "    .dataframe tbody tr th:only-of-type {\n",
       "        vertical-align: middle;\n",
       "    }\n",
       "\n",
       "    .dataframe tbody tr th {\n",
       "        vertical-align: top;\n",
       "    }\n",
       "\n",
       "    .dataframe thead th {\n",
       "        text-align: right;\n",
       "    }\n",
       "</style>\n",
       "<table border=\"1\" class=\"dataframe\">\n",
       "  <thead>\n",
       "    <tr style=\"text-align: right;\">\n",
       "      <th></th>\n",
       "      <th>valor_tasado</th>\n",
       "    </tr>\n",
       "    <tr>\n",
       "      <th>tipo_propiedad</th>\n",
       "      <th></th>\n",
       "    </tr>\n",
       "  </thead>\n",
       "  <tbody>\n",
       "    <tr>\n",
       "      <th>Apartments</th>\n",
       "      <td>162313.921348</td>\n",
       "    </tr>\n",
       "    <tr>\n",
       "      <th>Commercial</th>\n",
       "      <td>123600.033881</td>\n",
       "    </tr>\n",
       "    <tr>\n",
       "      <th>Industrial</th>\n",
       "      <td>68981.177778</td>\n",
       "    </tr>\n",
       "    <tr>\n",
       "      <th>Residential</th>\n",
       "      <td>12539.237600</td>\n",
       "    </tr>\n",
       "    <tr>\n",
       "      <th>Condo</th>\n",
       "      <td>9311.674931</td>\n",
       "    </tr>\n",
       "    <tr>\n",
       "      <th>Single Family</th>\n",
       "      <td>7196.500000</td>\n",
       "    </tr>\n",
       "    <tr>\n",
       "      <th>Public Utility</th>\n",
       "      <td>6587.000000</td>\n",
       "    </tr>\n",
       "    <tr>\n",
       "      <th>Vacant Land</th>\n",
       "      <td>6013.238523</td>\n",
       "    </tr>\n",
       "    <tr>\n",
       "      <th>Three Family</th>\n",
       "      <td>2674.000000</td>\n",
       "    </tr>\n",
       "    <tr>\n",
       "      <th>Two Family</th>\n",
       "      <td>876.500000</td>\n",
       "    </tr>\n",
       "    <tr>\n",
       "      <th>No indica</th>\n",
       "      <td>91.315789</td>\n",
       "    </tr>\n",
       "  </tbody>\n",
       "</table>\n",
       "</div>"
      ],
      "text/plain": [
       "                 valor_tasado\n",
       "tipo_propiedad               \n",
       "Apartments      162313.921348\n",
       "Commercial      123600.033881\n",
       "Industrial       68981.177778\n",
       "Residential      12539.237600\n",
       "Condo             9311.674931\n",
       "Single Family     7196.500000\n",
       "Public Utility    6587.000000\n",
       "Vacant Land       6013.238523\n",
       "Three Family      2674.000000\n",
       "Two Family         876.500000\n",
       "No indica           91.315789"
      ]
     },
     "execution_count": 8,
     "metadata": {},
     "output_type": "execute_result"
    }
   ],
   "source": [
    "gf=df.pivot_table(index=\"tipo_propiedad\",values=\"valor_tasado\", aggfunc=\"mean\")\n",
    "gf = gf.sort_values(\"valor_tasado\", ascending=False)\n",
    "gf"
   ]
  },
  {
   "cell_type": "markdown",
   "id": "62085790",
   "metadata": {},
   "source": [
    "<p> R. El costo promedio de las propiedades tipo residenciales es 12 539.24 y las tipo comerciales es 12 3600.03</p>"
   ]
  },
  {
   "cell_type": "markdown",
   "id": "e7768d6a",
   "metadata": {},
   "source": [
    "<h4 style=\"color: #0b2e59\">5.Cuál es el tipo de propiedades residenciales que se vende con mayor frecuencia, dónde y con qué costo promedio?</h4>"
   ]
  },
  {
   "cell_type": "code",
   "execution_count": 17,
   "id": "58e659b0",
   "metadata": {},
   "outputs": [
    {
     "data": {
      "text/html": [
       "<div>\n",
       "<style scoped>\n",
       "    .dataframe tbody tr th:only-of-type {\n",
       "        vertical-align: middle;\n",
       "    }\n",
       "\n",
       "    .dataframe tbody tr th {\n",
       "        vertical-align: top;\n",
       "    }\n",
       "\n",
       "    .dataframe thead th {\n",
       "        text-align: right;\n",
       "    }\n",
       "</style>\n",
       "<table border=\"1\" class=\"dataframe\">\n",
       "  <thead>\n",
       "    <tr style=\"text-align: right;\">\n",
       "      <th>tipo_residencial</th>\n",
       "      <th>Condo</th>\n",
       "      <th>Four Family</th>\n",
       "      <th>Single Family</th>\n",
       "      <th>Three Family</th>\n",
       "      <th>Two Family</th>\n",
       "    </tr>\n",
       "    <tr>\n",
       "      <th>tipo_propiedad</th>\n",
       "      <th></th>\n",
       "      <th></th>\n",
       "      <th></th>\n",
       "      <th></th>\n",
       "      <th></th>\n",
       "    </tr>\n",
       "  </thead>\n",
       "  <tbody>\n",
       "    <tr>\n",
       "      <th>Residential</th>\n",
       "      <td>5187371747</td>\n",
       "      <td>85079505</td>\n",
       "      <td>60332983772</td>\n",
       "      <td>602838287</td>\n",
       "      <td>870228268</td>\n",
       "    </tr>\n",
       "  </tbody>\n",
       "</table>\n",
       "</div>"
      ],
      "text/plain": [
       "tipo_residencial       Condo  Four Family  Single Family  Three Family  \\\n",
       "tipo_propiedad                                                           \n",
       "Residential       5187371747     85079505    60332983772     602838287   \n",
       "\n",
       "tipo_residencial  Two Family  \n",
       "tipo_propiedad                \n",
       "Residential        870228268  "
      ]
     },
     "execution_count": 17,
     "metadata": {},
     "output_type": "execute_result"
    }
   ],
   "source": [
    "gf=df[df.tipo_propiedad== 'Residential'].pivot_table(index=\"tipo_propiedad\",columns=\"tipo_residencial\",values=\"importe_venta \", aggfunc=\"sum\")\n",
    "gf"
   ]
  },
  {
   "cell_type": "markdown",
   "id": "a40921c4",
   "metadata": {},
   "source": [
    "<p> R. El tipo de propiedad residencial que más se vende es unifamiliar</p>"
   ]
  },
  {
   "cell_type": "code",
   "execution_count": 27,
   "id": "39f31134",
   "metadata": {},
   "outputs": [
    {
     "data": {
      "text/html": [
       "<div>\n",
       "<style scoped>\n",
       "    .dataframe tbody tr th:only-of-type {\n",
       "        vertical-align: middle;\n",
       "    }\n",
       "\n",
       "    .dataframe tbody tr th {\n",
       "        vertical-align: top;\n",
       "    }\n",
       "\n",
       "    .dataframe thead th {\n",
       "        text-align: right;\n",
       "    }\n",
       "</style>\n",
       "<table border=\"1\" class=\"dataframe\">\n",
       "  <thead>\n",
       "    <tr style=\"text-align: right;\">\n",
       "      <th></th>\n",
       "      <th>importe_venta</th>\n",
       "    </tr>\n",
       "    <tr>\n",
       "      <th>ciudad</th>\n",
       "      <th></th>\n",
       "    </tr>\n",
       "  </thead>\n",
       "  <tbody>\n",
       "    <tr>\n",
       "      <th>Greenwich</th>\n",
       "      <td>7208644437</td>\n",
       "    </tr>\n",
       "    <tr>\n",
       "      <th>Stamford</th>\n",
       "      <td>4491311683</td>\n",
       "    </tr>\n",
       "    <tr>\n",
       "      <th>Norwalk</th>\n",
       "      <td>2845554192</td>\n",
       "    </tr>\n",
       "    <tr>\n",
       "      <th>Darien</th>\n",
       "      <td>2024471952</td>\n",
       "    </tr>\n",
       "    <tr>\n",
       "      <th>New Canaan</th>\n",
       "      <td>1656880881</td>\n",
       "    </tr>\n",
       "    <tr>\n",
       "      <th>...</th>\n",
       "      <td>...</td>\n",
       "    </tr>\n",
       "    <tr>\n",
       "      <th>Scotland</th>\n",
       "      <td>18115991</td>\n",
       "    </tr>\n",
       "    <tr>\n",
       "      <th>Bozrah</th>\n",
       "      <td>16040261</td>\n",
       "    </tr>\n",
       "    <tr>\n",
       "      <th>Union</th>\n",
       "      <td>10823078</td>\n",
       "    </tr>\n",
       "    <tr>\n",
       "      <th>Voluntown</th>\n",
       "      <td>10376500</td>\n",
       "    </tr>\n",
       "    <tr>\n",
       "      <th>Hartland</th>\n",
       "      <td>6398691</td>\n",
       "    </tr>\n",
       "  </tbody>\n",
       "</table>\n",
       "<p>169 rows × 1 columns</p>\n",
       "</div>"
      ],
      "text/plain": [
       "            importe_venta \n",
       "ciudad                    \n",
       "Greenwich       7208644437\n",
       "Stamford        4491311683\n",
       "Norwalk         2845554192\n",
       "Darien          2024471952\n",
       "New Canaan      1656880881\n",
       "...                    ...\n",
       "Scotland          18115991\n",
       "Bozrah            16040261\n",
       "Union             10823078\n",
       "Voluntown         10376500\n",
       "Hartland           6398691\n",
       "\n",
       "[169 rows x 1 columns]"
      ]
     },
     "execution_count": 27,
     "metadata": {},
     "output_type": "execute_result"
    }
   ],
   "source": [
    "gf=df[df.tipo_residencial== 'Single Family'].pivot_table(index=\"ciudad\",values=\"importe_venta \", aggfunc=\"sum\")\n",
    "gf = gf.sort_values(\"importe_venta \", ascending=False)\n",
    "gf"
   ]
  },
  {
   "cell_type": "markdown",
   "id": "3c504c6f",
   "metadata": {},
   "source": [
    "<p> R. Las residencias unipersonales se venden mayoritariamente en Greenwich</p>"
   ]
  },
  {
   "cell_type": "code",
   "execution_count": 29,
   "id": "45dee51a",
   "metadata": {},
   "outputs": [
    {
     "data": {
      "text/html": [
       "<div>\n",
       "<style scoped>\n",
       "    .dataframe tbody tr th:only-of-type {\n",
       "        vertical-align: middle;\n",
       "    }\n",
       "\n",
       "    .dataframe tbody tr th {\n",
       "        vertical-align: top;\n",
       "    }\n",
       "\n",
       "    .dataframe thead th {\n",
       "        text-align: right;\n",
       "    }\n",
       "</style>\n",
       "<table border=\"1\" class=\"dataframe\">\n",
       "  <thead>\n",
       "    <tr style=\"text-align: right;\">\n",
       "      <th></th>\n",
       "      <th>valor_tasado</th>\n",
       "    </tr>\n",
       "    <tr>\n",
       "      <th>ciudad</th>\n",
       "      <th></th>\n",
       "    </tr>\n",
       "  </thead>\n",
       "  <tbody>\n",
       "    <tr>\n",
       "      <th>Greenwich</th>\n",
       "      <td>73596.627418</td>\n",
       "    </tr>\n",
       "    <tr>\n",
       "      <th>New Canaan</th>\n",
       "      <td>58091.257685</td>\n",
       "    </tr>\n",
       "    <tr>\n",
       "      <th>Darien</th>\n",
       "      <td>49396.921303</td>\n",
       "    </tr>\n",
       "    <tr>\n",
       "      <th>Brookfield</th>\n",
       "      <td>43759.342960</td>\n",
       "    </tr>\n",
       "    <tr>\n",
       "      <th>Warren</th>\n",
       "      <td>39868.974790</td>\n",
       "    </tr>\n",
       "    <tr>\n",
       "      <th>...</th>\n",
       "      <td>...</td>\n",
       "    </tr>\n",
       "    <tr>\n",
       "      <th>Andover</th>\n",
       "      <td>917.824468</td>\n",
       "    </tr>\n",
       "    <tr>\n",
       "      <th>Canaan</th>\n",
       "      <td>916.164557</td>\n",
       "    </tr>\n",
       "    <tr>\n",
       "      <th>Clinton</th>\n",
       "      <td>856.932638</td>\n",
       "    </tr>\n",
       "    <tr>\n",
       "      <th>Norwich</th>\n",
       "      <td>677.201327</td>\n",
       "    </tr>\n",
       "    <tr>\n",
       "      <th>Chaplin</th>\n",
       "      <td>404.050000</td>\n",
       "    </tr>\n",
       "  </tbody>\n",
       "</table>\n",
       "<p>169 rows × 1 columns</p>\n",
       "</div>"
      ],
      "text/plain": [
       "            valor_tasado\n",
       "ciudad                  \n",
       "Greenwich   73596.627418\n",
       "New Canaan  58091.257685\n",
       "Darien      49396.921303\n",
       "Brookfield  43759.342960\n",
       "Warren      39868.974790\n",
       "...                  ...\n",
       "Andover       917.824468\n",
       "Canaan        916.164557\n",
       "Clinton       856.932638\n",
       "Norwich       677.201327\n",
       "Chaplin       404.050000\n",
       "\n",
       "[169 rows x 1 columns]"
      ]
     },
     "execution_count": 29,
     "metadata": {},
     "output_type": "execute_result"
    }
   ],
   "source": [
    "gf=df[df.tipo_residencial== 'Single Family'].pivot_table(index=\"ciudad\",values=\"valor_tasado\", aggfunc=\"mean\")\n",
    "gf = gf.sort_values(\"valor_tasado\", ascending=False)\n",
    "gf"
   ]
  },
  {
   "cell_type": "markdown",
   "id": "ff4daeb1",
   "metadata": {},
   "source": [
    "<p> R. El costo promedio de las residencias unipersonales en Greenwich es de 73 596,63</p>"
   ]
  },
  {
   "cell_type": "markdown",
   "id": "9cb8933d",
   "metadata": {},
   "source": [
    "<h4 style=\"color: #0b2e59\">6.Cuál es el margen promedio de ganancia por cada una de las propiedades vendidas?</h4>"
   ]
  },
  {
   "cell_type": "code",
   "execution_count": 35,
   "id": "ac93707b",
   "metadata": {},
   "outputs": [
    {
     "data": {
      "text/plain": [
       "369332.69777964434"
      ]
     },
     "execution_count": 35,
     "metadata": {},
     "output_type": "execute_result"
    }
   ],
   "source": [
    "venta=df['importe_venta '].mean()\n",
    "venta"
   ]
  },
  {
   "cell_type": "code",
   "execution_count": 37,
   "id": "6da4afaa",
   "metadata": {},
   "outputs": [
    {
     "data": {
      "text/plain": [
       "13918.634278138752"
      ]
     },
     "execution_count": 37,
     "metadata": {},
     "output_type": "execute_result"
    }
   ],
   "source": [
    "costo=df['valor_tasado'].mean()\n",
    "costo"
   ]
  },
  {
   "cell_type": "code",
   "execution_count": 42,
   "id": "0d85b296",
   "metadata": {},
   "outputs": [
    {
     "data": {
      "text/plain": [
       "96.23141022665611"
      ]
     },
     "execution_count": 42,
     "metadata": {},
     "output_type": "execute_result"
    }
   ],
   "source": [
    "margen=(venta-costo)/venta*100\n",
    "margen"
   ]
  },
  {
   "cell_type": "code",
   "execution_count": null,
   "id": "918bed57",
   "metadata": {},
   "outputs": [],
   "source": [
    "<p> R. El margen promedio de ganancia por la propiedaddes vendidas es de un 96.23%</p>"
   ]
  }
 ],
 "metadata": {
  "kernelspec": {
   "display_name": "Python 3 (ipykernel)",
   "language": "python",
   "name": "python3"
  },
  "language_info": {
   "codemirror_mode": {
    "name": "ipython",
    "version": 3
   },
   "file_extension": ".py",
   "mimetype": "text/x-python",
   "name": "python",
   "nbconvert_exporter": "python",
   "pygments_lexer": "ipython3",
   "version": "3.10.9"
  }
 },
 "nbformat": 4,
 "nbformat_minor": 5
}
